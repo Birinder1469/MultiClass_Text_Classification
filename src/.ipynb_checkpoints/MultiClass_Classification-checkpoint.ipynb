{
 "cells": [
  {
   "cell_type": "code",
   "execution_count": 1,
   "metadata": {},
   "outputs": [],
   "source": [
    "import pandas as pd\n",
    "import matplotlib.pyplot as plt\n",
    "import numpy as np\n",
    "from sklearn.feature_extraction.text import CountVectorizer\n",
    "from sklearn.model_selection import train_test_split, cross_val_score\n",
    "from sklearn.naive_bayes import MultinomialNB, BernoulliNB\n",
    "from sklearn.linear_model import LogisticRegression\n",
    "from sklearn.ensemble import RandomForestClassifier\n",
    "from sklearn.svm import LinearSVC\n",
    "from sklearn.metrics import confusion_matrix\n",
    "import seaborn as sns"
   ]
  },
  {
   "cell_type": "code",
   "execution_count": 2,
   "metadata": {},
   "outputs": [],
   "source": [
    "consumer=pd.read_csv('../data/Consumer_Clean.csv',usecols=['Product','Consumer_Complaint','Product_id'])"
   ]
  },
  {
   "cell_type": "code",
   "execution_count": 3,
   "metadata": {},
   "outputs": [
    {
     "data": {
      "text/html": [
       "<div>\n",
       "<style scoped>\n",
       "    .dataframe tbody tr th:only-of-type {\n",
       "        vertical-align: middle;\n",
       "    }\n",
       "\n",
       "    .dataframe tbody tr th {\n",
       "        vertical-align: top;\n",
       "    }\n",
       "\n",
       "    .dataframe thead th {\n",
       "        text-align: right;\n",
       "    }\n",
       "</style>\n",
       "<table border=\"1\" class=\"dataframe\">\n",
       "  <thead>\n",
       "    <tr style=\"text-align: right;\">\n",
       "      <th></th>\n",
       "      <th>Product</th>\n",
       "      <th>Consumer_Complaint</th>\n",
       "      <th>Product_id</th>\n",
       "    </tr>\n",
       "  </thead>\n",
       "  <tbody>\n",
       "    <tr>\n",
       "      <th>0</th>\n",
       "      <td>Debt collection</td>\n",
       "      <td>Midland Funding had posted a debt under a diff...</td>\n",
       "      <td>7</td>\n",
       "    </tr>\n",
       "    <tr>\n",
       "      <th>1</th>\n",
       "      <td>Debt collection</td>\n",
       "      <td>XXXX XXXX XXXX and Nationstar Mortgage has bee...</td>\n",
       "      <td>7</td>\n",
       "    </tr>\n",
       "    <tr>\n",
       "      <th>2</th>\n",
       "      <td>Debt collection</td>\n",
       "      <td>Complaint against - XXXX XXXX -- - A company c...</td>\n",
       "      <td>7</td>\n",
       "    </tr>\n",
       "    <tr>\n",
       "      <th>3</th>\n",
       "      <td>Debt collection</td>\n",
       "      <td>The bill should only be XXXX. XXXX in XXXX, FL...</td>\n",
       "      <td>7</td>\n",
       "    </tr>\n",
       "    <tr>\n",
       "      <th>4</th>\n",
       "      <td>Debt collection</td>\n",
       "      <td>I have been disputing an account with XXXX XXX...</td>\n",
       "      <td>7</td>\n",
       "    </tr>\n",
       "  </tbody>\n",
       "</table>\n",
       "</div>"
      ],
      "text/plain": [
       "           Product                                 Consumer_Complaint  \\\n",
       "0  Debt collection  Midland Funding had posted a debt under a diff...   \n",
       "1  Debt collection  XXXX XXXX XXXX and Nationstar Mortgage has bee...   \n",
       "2  Debt collection  Complaint against - XXXX XXXX -- - A company c...   \n",
       "3  Debt collection  The bill should only be XXXX. XXXX in XXXX, FL...   \n",
       "4  Debt collection  I have been disputing an account with XXXX XXX...   \n",
       "\n",
       "   Product_id  \n",
       "0           7  \n",
       "1           7  \n",
       "2           7  \n",
       "3           7  \n",
       "4           7  "
      ]
     },
     "execution_count": 3,
     "metadata": {},
     "output_type": "execute_result"
    }
   ],
   "source": [
    "consumer.head()"
   ]
  },
  {
   "cell_type": "code",
   "execution_count": 4,
   "metadata": {},
   "outputs": [],
   "source": [
    "consumer.loc[consumer['Product']=='Credit reporting, credit repair services, or other personal consumer reports', 'Product']='Credit_Reporting-Credit_Repair'"
   ]
  },
  {
   "cell_type": "markdown",
   "metadata": {},
   "source": [
    "# Naive Bayes"
   ]
  },
  {
   "cell_type": "markdown",
   "metadata": {},
   "source": [
    "## Multinomial Dataset training using the MultinomialNB"
   ]
  },
  {
   "cell_type": "code",
   "execution_count": 5,
   "metadata": {},
   "outputs": [],
   "source": [
    "cv_counts=CountVectorizer(stop_words='english', binary=False)"
   ]
  },
  {
   "cell_type": "code",
   "execution_count": 6,
   "metadata": {},
   "outputs": [],
   "source": [
    "X_counts=cv_counts.fit_transform(consumer.Consumer_Complaint).toarray()"
   ]
  },
  {
   "cell_type": "code",
   "execution_count": 7,
   "metadata": {},
   "outputs": [
    {
     "data": {
      "text/plain": [
       "(5000, 14177)"
      ]
     },
     "execution_count": 7,
     "metadata": {},
     "output_type": "execute_result"
    }
   ],
   "source": [
    "X_counts.shape"
   ]
  },
  {
   "cell_type": "code",
   "execution_count": 8,
   "metadata": {},
   "outputs": [],
   "source": [
    "X_train, X_test, y_train, y_test = train_test_split(X_counts, consumer.Product, test_size=0.2, random_state=123)"
   ]
  },
  {
   "cell_type": "code",
   "execution_count": 9,
   "metadata": {},
   "outputs": [],
   "source": [
    "clf_Multinomial=MultinomialNB()"
   ]
  },
  {
   "cell_type": "code",
   "execution_count": 10,
   "metadata": {},
   "outputs": [
    {
     "data": {
      "text/plain": [
       "MultinomialNB(alpha=1.0, class_prior=None, fit_prior=True)"
      ]
     },
     "execution_count": 10,
     "metadata": {},
     "output_type": "execute_result"
    }
   ],
   "source": [
    "clf_Multinomial.fit(X_train,y_train)"
   ]
  },
  {
   "cell_type": "code",
   "execution_count": 11,
   "metadata": {},
   "outputs": [
    {
     "name": "stdout",
     "output_type": "stream",
     "text": [
      "The Train score for Multinomial is 0.87075\n"
     ]
    }
   ],
   "source": [
    "print('The Train score for Multinomial is {0}'.format(clf_Multinomial.score(X_train,y_train)))"
   ]
  },
  {
   "cell_type": "code",
   "execution_count": 12,
   "metadata": {},
   "outputs": [
    {
     "name": "stdout",
     "output_type": "stream",
     "text": [
      "The Test score for Multinomial is 0.745\n"
     ]
    }
   ],
   "source": [
    "print('The Test score for Multinomial is {0}'.format(clf_Multinomial.score(X_test,y_test)))"
   ]
  },
  {
   "cell_type": "markdown",
   "metadata": {},
   "source": [
    "### Verifying with an example "
   ]
  },
  {
   "cell_type": "code",
   "execution_count": 13,
   "metadata": {},
   "outputs": [
    {
     "data": {
      "text/plain": [
       "array(['Debt collection'], dtype='<U30')"
      ]
     },
     "execution_count": 13,
     "metadata": {},
     "output_type": "execute_result"
    }
   ],
   "source": [
    "clf_Multinomial.predict(cv_counts.transform([\"This company refuses to provide me verification and validation of debt per my right under the FDCPA. I do not believe this debt is mine.\"]))"
   ]
  },
  {
   "cell_type": "code",
   "execution_count": 14,
   "metadata": {},
   "outputs": [
    {
     "data": {
      "text/plain": [
       "array(['Credit reporting'], dtype='<U30')"
      ]
     },
     "execution_count": 14,
     "metadata": {},
     "output_type": "execute_result"
    }
   ],
   "source": [
    "clf_Multinomial.predict(cv_counts.transform([\"I am disputing the inaccurate information the Chex-Systems has on my credit report. I initially submitted a police report on XXXX/XXXX/16 and Chex Systems only deleted the items that I mentioned in the letter and not all the items that were actually listed on the police report. In other words they wanted me to say word for word to them what items were fraudulent. The total disregard of the police report and what accounts that it states that are fraudulent. If they just had paid a little closer attention to the police report I would not been in this position now and they would n't have to research once again. I would like the reported information to be removed : XXXX XXXX XXXX\"]))"
   ]
  },
  {
   "cell_type": "markdown",
   "metadata": {},
   "source": [
    "## Binary Dataset training using the BernoulliNB"
   ]
  },
  {
   "cell_type": "code",
   "execution_count": 15,
   "metadata": {},
   "outputs": [],
   "source": [
    "X_counts_binary=X_counts>0"
   ]
  },
  {
   "cell_type": "code",
   "execution_count": 16,
   "metadata": {},
   "outputs": [],
   "source": [
    "X_train, X_test, y_train, y_test = train_test_split(X_counts_binary, consumer.Product, test_size=0.2, random_state=123)"
   ]
  },
  {
   "cell_type": "code",
   "execution_count": 17,
   "metadata": {},
   "outputs": [],
   "source": [
    "clf_binary=BernoulliNB()"
   ]
  },
  {
   "cell_type": "code",
   "execution_count": 18,
   "metadata": {},
   "outputs": [
    {
     "name": "stdout",
     "output_type": "stream",
     "text": [
      "The Train score for Binary is 0.76625\n"
     ]
    }
   ],
   "source": [
    "clf_binary.fit(X_train,y_train)\n",
    "print('The Train score for Binary is {0}'.format(clf_binary.score(X_train,y_train)))"
   ]
  },
  {
   "cell_type": "code",
   "execution_count": 19,
   "metadata": {},
   "outputs": [
    {
     "name": "stdout",
     "output_type": "stream",
     "text": [
      "The Test score for Binary is 0.643\n"
     ]
    }
   ],
   "source": [
    "print('The Test score for Binary is {0}'.format(clf_binary.score(X_test,y_test)))"
   ]
  },
  {
   "cell_type": "markdown",
   "metadata": {},
   "source": [
    "### Verifying with an example "
   ]
  },
  {
   "cell_type": "code",
   "execution_count": 20,
   "metadata": {},
   "outputs": [
    {
     "data": {
      "text/plain": [
       "array(['Credit reporting'], dtype='<U30')"
      ]
     },
     "execution_count": 20,
     "metadata": {},
     "output_type": "execute_result"
    }
   ],
   "source": [
    "clf_binary.predict(cv_counts.transform([\"This company refuses to provide me verification and validation of debt per my right under the FDCPA. I do not believe this debt is mine.\"]))"
   ]
  },
  {
   "cell_type": "code",
   "execution_count": 21,
   "metadata": {},
   "outputs": [
    {
     "data": {
      "text/plain": [
       "array(['Credit reporting'], dtype='<U30')"
      ]
     },
     "execution_count": 21,
     "metadata": {},
     "output_type": "execute_result"
    }
   ],
   "source": [
    "clf_binary.predict(cv_counts.transform([\"I am disputing the inaccurate information the Chex-Systems has on my credit report. I initially submitted a police report on XXXX/XXXX/16 and Chex Systems only deleted the items that I mentioned in the letter and not all the items that were actually listed on the police report. In other words they wanted me to say word for word to them what items were fraudulent. The total disregard of the police report and what accounts that it states that are fraudulent. If they just had paid a little closer attention to the police report I would not been in this position now and they would n't have to research once again. I would like the reported information to be removed : XXXX XXXX XXXX\"]))"
   ]
  },
  {
   "cell_type": "markdown",
   "metadata": {},
   "source": [
    "### Observation: \n",
    "\n",
    "> We observe that the Train and Test Accuracy using the Multinomial dataset is more than the Binary dataset. \n",
    "It is too early to conclude but from the first impression it seems that there is a possibility that the frequency of occurence of words plays a role in the classification."
   ]
  },
  {
   "cell_type": "code",
   "execution_count": 22,
   "metadata": {},
   "outputs": [],
   "source": [
    "cv_counts=CountVectorizer(stop_words='english', binary=False)\n",
    "X_counts=cv_counts.fit_transform(consumer.Consumer_Complaint).toarray()\n",
    "X_train, X_test, y_train, y_test = train_test_split(X_counts, consumer.Product, test_size=0.2, random_state=123)"
   ]
  },
  {
   "cell_type": "markdown",
   "metadata": {},
   "source": [
    "# Logistic Regression"
   ]
  },
  {
   "cell_type": "code",
   "execution_count": 23,
   "metadata": {},
   "outputs": [
    {
     "name": "stdout",
     "output_type": "stream",
     "text": [
      "The train accuracy for Logistic Regression is 0.98425\n",
      "The test accuracy for Logistic Regression is 0.729\n"
     ]
    }
   ],
   "source": [
    "logisReg=LogisticRegression()\n",
    "logisReg.fit(X_train,y_train)\n",
    "print('The train accuracy for Logistic Regression is {0}'.format(logisReg.score(X_train,y_train)))\n",
    "print('The test accuracy for Logistic Regression is {0}'.format(logisReg.score(X_test,y_test)))"
   ]
  },
  {
   "cell_type": "markdown",
   "metadata": {},
   "source": [
    "# Linear Support Vector Machines"
   ]
  },
  {
   "cell_type": "code",
   "execution_count": 24,
   "metadata": {},
   "outputs": [
    {
     "name": "stdout",
     "output_type": "stream",
     "text": [
      "The train score of Linear SVM is 0.997\n",
      "The test score of Linear SVM is 0.687\n"
     ]
    }
   ],
   "source": [
    "linSVC=LinearSVC()\n",
    "linSVC.fit(X_train,y_train)\n",
    "print('The train score of Linear SVM is {0}'.format(linSVC.score(X_train,y_train)))\n",
    "print('The test score of Linear SVM is {0}'.format(linSVC.score(X_test,y_test)))"
   ]
  },
  {
   "cell_type": "markdown",
   "metadata": {},
   "source": [
    "# Random Forest "
   ]
  },
  {
   "cell_type": "code",
   "execution_count": 25,
   "metadata": {},
   "outputs": [],
   "source": [
    "depth=np.arange(1,100,10)\n",
    "train_score=[]\n",
    "test_score=[]\n",
    "\n",
    "for i in depth:\n",
    "    randforest=RandomForestClassifier(n_estimators=25, max_depth=i)\n",
    "    randforest.fit(X_train, y_train)\n",
    "    train_score.append(randforest.score(X_train,y_train))\n",
    "    test_score.append(randforest.score(X_test,y_test))"
   ]
  },
  {
   "cell_type": "code",
   "execution_count": 26,
   "metadata": {},
   "outputs": [
    {
     "data": {
      "image/png": "[encoded data removed]",
      "text/plain": [
       "<Figure size 432x288 with 1 Axes>"
      ]
     },
     "metadata": {},
     "output_type": "display_data"
    }
   ],
   "source": [
    "plt.plot(depth, train_score, label= 'Train Score')\n",
    "plt.plot(depth, test_score, label= 'Test Score')\n",
    "plt.legend()\n",
    "plt.title('Random Forest - Depth vs Accuracy')\n",
    "plt.xlabel('Max Tree depth')\n",
    "plt.ylabel('Accuracy')\n",
    "plt.savefig('../results/RandomForest_accuracy.png')"
   ]
  },
  {
   "cell_type": "markdown",
   "metadata": {},
   "source": [
    "### Visually the optimum depth is ~ 40"
   ]
  },
  {
   "cell_type": "code",
   "execution_count": 27,
   "metadata": {},
   "outputs": [
    {
     "name": "stdout",
     "output_type": "stream",
     "text": [
      "The train score for Random Forest is 0.97625\n",
      "The test score for Random Forest is 0.723\n"
     ]
    }
   ],
   "source": [
    "randforest=RandomForestClassifier(n_estimators=25, max_depth=40)\n",
    "randforest.fit(X_train, y_train)\n",
    "print('The train score for Random Forest is {0}'.format(randforest.score(X_train,y_train)))\n",
    "print('The test score for Random Forest is {0}'.format(randforest.score(X_test,y_test)))"
   ]
  },
  {
   "cell_type": "code",
   "execution_count": 28,
   "metadata": {},
   "outputs": [
    {
     "data": {
      "text/html": [
       "<div>\n",
       "<style scoped>\n",
       "    .dataframe tbody tr th:only-of-type {\n",
       "        vertical-align: middle;\n",
       "    }\n",
       "\n",
       "    .dataframe tbody tr th {\n",
       "        vertical-align: top;\n",
       "    }\n",
       "\n",
       "    .dataframe thead th {\n",
       "        text-align: right;\n",
       "    }\n",
       "</style>\n",
       "<table border=\"1\" class=\"dataframe\">\n",
       "  <thead>\n",
       "    <tr style=\"text-align: right;\">\n",
       "      <th></th>\n",
       "      <th>Model</th>\n",
       "      <th>TrainScore</th>\n",
       "      <th>TestScore</th>\n",
       "    </tr>\n",
       "  </thead>\n",
       "  <tbody>\n",
       "    <tr>\n",
       "      <th>0</th>\n",
       "      <td>RandomForest</td>\n",
       "      <td>0.97625</td>\n",
       "      <td>0.723</td>\n",
       "    </tr>\n",
       "    <tr>\n",
       "      <th>1</th>\n",
       "      <td>MultinomialNB</td>\n",
       "      <td>0.87075</td>\n",
       "      <td>0.745</td>\n",
       "    </tr>\n",
       "    <tr>\n",
       "      <th>2</th>\n",
       "      <td>BernoulliNB</td>\n",
       "      <td>0.76625</td>\n",
       "      <td>0.643</td>\n",
       "    </tr>\n",
       "    <tr>\n",
       "      <th>3</th>\n",
       "      <td>LogisticRegression</td>\n",
       "      <td>0.98425</td>\n",
       "      <td>0.729</td>\n",
       "    </tr>\n",
       "    <tr>\n",
       "      <th>4</th>\n",
       "      <td>LinearSVC</td>\n",
       "      <td>0.997</td>\n",
       "      <td>0.687</td>\n",
       "    </tr>\n",
       "  </tbody>\n",
       "</table>\n",
       "</div>"
      ],
      "text/plain": [
       "                Model TrainScore TestScore\n",
       "0        RandomForest    0.97625     0.723\n",
       "1       MultinomialNB    0.87075     0.745\n",
       "2         BernoulliNB    0.76625     0.643\n",
       "3  LogisticRegression    0.98425     0.729\n",
       "4           LinearSVC      0.997     0.687"
      ]
     },
     "execution_count": 28,
     "metadata": {},
     "output_type": "execute_result"
    }
   ],
   "source": [
    "data = np.array([['Model' , 'TrainScore', 'TestScore'],\n",
    "               ['RandomForest', randforest.score(X_train,y_train),randforest.score(X_test,y_test)],\n",
    "               ['MultinomialNB',clf_Multinomial.score(X_train,y_train), clf_Multinomial.score(X_test,y_test) ],\n",
    "               ['BernoulliNB', clf_binary.score(X_train,y_train), clf_binary.score(X_test,y_test)],\n",
    "               ['LogisticRegression', logisReg.score(X_train,y_train),logisReg.score(X_test,y_test)],\n",
    "               ['LinearSVC', linSVC.score(X_train,y_train), linSVC.score(X_test,y_test)]])\n",
    "pd.DataFrame(data[1:, :], columns=data[0,:])"
   ]
  },
  {
   "cell_type": "markdown",
   "metadata": {},
   "source": [
    "### Evaluation Metrics : ConfusionMatrix"
   ]
  },
  {
   "cell_type": "code",
   "execution_count": 71,
   "metadata": {},
   "outputs": [
    {
     "data": {
      "text/plain": [
       "array([[126,  44,  25,   7,   4],\n",
       "       [ 75,  85,  21,  10,   2],\n",
       "       [ 15,  15, 145,   8,  10],\n",
       "       [  3,   2,   8, 188,   7],\n",
       "       [  5,   6,   5,   5, 179]], dtype=int64)"
      ]
     },
     "execution_count": 71,
     "metadata": {},
     "output_type": "execute_result"
    }
   ],
   "source": [
    "y_predict=randforest.predict(X_test);\n",
    "conf_matrix=confusion_matrix(y_test,y_predict)\n",
    "conf_matrix"
   ]
  },
  {
   "cell_type": "code",
   "execution_count": 72,
   "metadata": {},
   "outputs": [
    {
     "data": {
      "image/png": "[encoded data removed]",
      "text/plain": [
       "<Figure size 720x720 with 2 Axes>"
      ]
     },
     "metadata": {},
     "output_type": "display_data"
    }
   ],
   "source": [
    "fig, ax = plt.subplots(figsize=(10,10));\n",
    "sns.heatmap(conf_matrix,annot=True, fmt= 'd',\n",
    "           xticklabels=consumer.Product.factorize()[1], yticklabels=consumer.Product.factorize()[1])\n",
    "plt.ylabel('Actual')\n",
    "plt.xlabel('Predicted')\n",
    "plt.yticks(rotation=45)\n",
    "plt.xticks(rotation=45)\n",
    "plt.title('Confusion Matrix Random Forest')\n",
    "plt.tight_layout()\n",
    "plt.savefig('../results/Confusion_Matrix_Heatmap_RandomForest.png')"
   ]
  },
  {
   "cell_type": "code",
   "execution_count": 73,
   "metadata": {},
   "outputs": [
    {
     "data": {
      "text/plain": [
       "array([[123,  58,  20,   4,   1],\n",
       "       [ 61, 108,  19,   4,   1],\n",
       "       [ 14,  23, 145,   4,   7],\n",
       "       [  8,   5,   7, 184,   4],\n",
       "       [  7,  10,  10,   4, 169]], dtype=int64)"
      ]
     },
     "execution_count": 73,
     "metadata": {},
     "output_type": "execute_result"
    }
   ],
   "source": [
    "y_predict=logisReg.predict(X_test);\n",
    "conf_matrix=confusion_matrix(y_test,y_predict)\n",
    "conf_matrix"
   ]
  },
  {
   "cell_type": "code",
   "execution_count": 74,
   "metadata": {},
   "outputs": [
    {
     "data": {
      "image/png": "[encoded data removed]",
      "text/plain": [
       "<Figure size 720x720 with 2 Axes>"
      ]
     },
     "metadata": {},
     "output_type": "display_data"
    }
   ],
   "source": [
    "fig, ax = plt.subplots(figsize=(10,10));\n",
    "sns.heatmap(conf_matrix,annot=True, fmt= 'd',\n",
    "           xticklabels=consumer.Product.factorize()[1], yticklabels=consumer.Product.factorize()[1])\n",
    "plt.ylabel('Actual')\n",
    "plt.xlabel('Predicted')\n",
    "plt.yticks(rotation=45)\n",
    "plt.xticks(rotation=45)\n",
    "plt.title('Confusion Matrix Logistic Regression')\n",
    "plt.tight_layout()\n",
    "plt.savefig('../results/Confusion_Matrix_Heatmap_Logistic_Regression.png')"
   ]
  }
 ],
 "metadata": {
  "kernelspec": {
   "display_name": "Python 3",
   "language": "python",
   "name": "python3"
  },
  "language_info": {
   "codemirror_mode": {
    "name": "ipython",
    "version": 3
   },
   "file_extension": ".py",
   "mimetype": "text/x-python",
   "name": "python",
   "nbconvert_exporter": "python",
   "pygments_lexer": "ipython3",
   "version": "3.6.5"
  }
 },
 "nbformat": 4,
 "nbformat_minor": 2
}
